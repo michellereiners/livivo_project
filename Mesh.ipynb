{
 "cells": [
  {
   "cell_type": "markdown",
   "metadata": {},
   "source": [
    "# MESH"
   ]
  },
  {
   "cell_type": "code",
   "execution_count": 1,
   "metadata": {},
   "outputs": [],
   "source": [
    "import spacy\n",
    "import scispacy\n",
    "from scispacy.linking import EntityLinker\n",
    "from scispacy.abbreviation import AbbreviationDetector"
   ]
  },
  {
   "cell_type": "code",
   "execution_count": 2,
   "metadata": {},
   "outputs": [
    {
     "name": "stderr",
     "output_type": "stream",
     "text": [
      "C:\\Users\\Michelle\\anaconda3\\lib\\site-packages\\sklearn\\base.py:329: UserWarning: Trying to unpickle estimator TfidfTransformer from version 0.22.2.post1 when using version 0.23.2. This might lead to breaking code or invalid results. Use at your own risk.\n",
      "  warnings.warn(\n",
      "C:\\Users\\Michelle\\anaconda3\\lib\\site-packages\\sklearn\\base.py:329: UserWarning: Trying to unpickle estimator TfidfVectorizer from version 0.22.2.post1 when using version 0.23.2. This might lead to breaking code or invalid results. Use at your own risk.\n",
      "  warnings.warn(\n"
     ]
    },
    {
     "data": {
      "text/plain": [
       "<scispacy.linking.EntityLinker at 0x21248fb97c0>"
      ]
     },
     "execution_count": 2,
     "metadata": {},
     "output_type": "execute_result"
    }
   ],
   "source": [
    "nlp = spacy.load(\"en_core_sci_md\")\n",
    "nlp.add_pipe(\"abbreviation_detector\")\n",
    "nlp.add_pipe(\"scispacy_linker\", config={\"resolve_abbreviations\": True, \"linker_name\": \"mesh\", \"max_entities_per_mention\" : 500})"
   ]
  },
  {
   "cell_type": "code",
   "execution_count": 71,
   "metadata": {},
   "outputs": [],
   "source": [
    "def mesh_creator(query_string, delimiter):\n",
    "    \"\"\"\n",
    "        Finds and creates MeSh-Terms for query_string using scispacy EntityLinker\n",
    "        \n",
    "        Input:\n",
    "        query_string : str\n",
    "        delimiter : str\n",
    "        \n",
    "        Output:\n",
    "        mesh_string : str\n",
    "    \"\"\"\n",
    "#     only if nlp isn't preloaded:\n",
    "\n",
    "#     nlp = spacy.load(\"en_core_sci_md\")\n",
    "#     nlp.add_pipe(\"abbreviation_detector\")\n",
    "#     nlp.add_pipe(\"scispacy_linker\", config={\"resolve_abbreviations\": True, \"linker_name\": \"mesh\"})\n",
    "    \n",
    "    \n",
    "    \n",
    "    doc = nlp(query_string)\n",
    "    mesh_string = \"\"\n",
    "    \n",
    "    for ent in range(0, len(doc.ents)):\n",
    "        \n",
    "        entity = doc.ents[ent]\n",
    "    \n",
    "        linker = nlp.get_pipe(\"scispacy_linker\")\n",
    "       \n",
    "        for x in range(0, len(entity._.kb_ents)):\n",
    "            mesh_ent = entity._.kb_ents[x]\n",
    "            linker_str = \"\"\n",
    "            for i in range(0, len(linker.kb.cui_to_entity[mesh_ent[0]].aliases)):\n",
    "                meshed = linker.kb.cui_to_entity[mesh_ent[0]].aliases[i]\n",
    "                if \",\" in meshed:\n",
    "                    linker_str = \"\"\n",
    "                if i < len(linker.kb.cui_to_entity[mesh_ent[0]].aliases) -1:\n",
    "                    linker_str = linker_str + meshed + \", \"\n",
    "                else:\n",
    "                    linker_str += meshed\n",
    "            if x < len(entity._.kb_ents) -1 and linker_str != \"\":\n",
    "                mesh_string = mesh_string + linker_str + delimiter + \" \"\n",
    "            else:\n",
    "                mesh_string += linker_str\n",
    "    return mesh_string"
   ]
  },
  {
   "cell_type": "code",
   "execution_count": 72,
   "metadata": {},
   "outputs": [
    {
     "name": "stdout",
     "output_type": "stream",
     "text": [
      "Arthritis, Polyarthritis, Lyme Arthritis, B. burgdorferi Infection, Lyme Borreliosis, Borrelia burgdorferi Infection, Lyme Disease, Arthritis, Spinal, Spinal Arthritis, Arthritis, Reactive, Arthritis, Septic, Infectious Arthritis, Periarthritis, Crystalline Arthritis, Crystal Arthropathies, Crystalline Arthropathies, Crystal Arthritis, Arthritis, Adjuvant-Induced, Collagen Arthritis, Arthritis, Gouty, Arthritis, Psoriatic, Psoriatic Arthropathy, Psoriasis Arthropathica, Psoriatic ArthritisBriquet Syndrome, Pain Disorder, Somatoform Disorders, Medically Unexplained Syndrome, Medically Unexplained Syndromes, Somatization Disorder, Depression, Bipolar, Panic Disorder, Panic Attacks, Tic Disorder, Post-Traumatic, Vocal Tic Disorders, Temporomandibular Disorders, TMJ Diseases, Temporomandibular Joint Disorders, TMJ Disorders, Temporomandibular Joint Diseases, Autism, Dementia, Ataxia, and Loss of Purposeful Hand Use, Dyslexia, Developmental, Reading Disorder, Mental Disorders, Severe, Psychiatric Diagnosis, Sexual Disorders, PhysiologicalMedically Unexplained Symptoms, Somatic Symptoms, Prodromal Symptoms, Prodromal Characteristics, Prodromal Syndromes, Prodromal Signs, Prodromal States, Prodromal Period, Prodromal Stage, Manifestations, Neurological, Signs and Symptoms, Emotional Depression, Depression, Depressive Symptoms, Signs and Symptoms, Neurobehavioral, Cognitive Symptoms, Affective Symptoms, Alexithymia, Emotional DisturbancesJoint Pain, Polyarthralgia, ArthralgiaAortic Stiffness, Vascular Stiffness, Arterial Stiffness\n"
     ]
    }
   ],
   "source": [
    "test_query = \"Arthritis is a term often used to mean any disorder that affects joints.[2] Symptoms generally include joint pain and stiffness\"\n",
    "delimiter = \",\"\n",
    "\n",
    "print(mesh_creator(test_query, delimiter))"
   ]
  },
  {
   "cell_type": "code",
   "execution_count": 40,
   "metadata": {},
   "outputs": [
    {
     "name": "stdout",
     "output_type": "stream",
     "text": [
      "Arthritis, +++ Polyarthritis, ---   Lyme Arthritis, +++ B. burgdorferi Infection, +++ Lyme Borreliosis, +++ Borrelia burgdorferi Infection, +++ Lyme Disease, ---   Spondylarthritis, +++ Arthritis, Spinal, +++ Spinal Arthritis, ---   Reiter's Disease, +++ Postinfectious Arthritis, +++ Reiter Syndrome, +++ Reiter Disease, +++ Reactive Arthritis, +++ Post-Infectious Arthritis, +++ Arthritis, Postinfectious, +++ Reiter's Syndrome, +++ Arthritis, Post-Infectious, +++ Arthritis, Reactive, ---   Suppurative Arthritis, +++ Arthritis, Infectious, +++ Bacterial Arthritides, +++ Arthritis, Bacterial, +++ Arthritis, Viral, +++ Arthritides, Bacterial, +++ Arthritis, Suppurative, +++ Bacterial Arthritis, +++ Arthritis, Septic, +++ Infectious Arthritis, ---   Periarthritis, ---   Crystalline Arthritis, +++ Crystal Arthropathies, +++ Crystalline Arthropathies, +++ Crystal Arthritis, ---   Adjuvant Arthritis, +++ Arthritis, Experimental, +++ Arthritis, Collagen-Induced, +++ Arthritis, Adjuvant, +++ Arthritis, Adjuvant-Induced, +++ Collagen Arthritis, ---   Gouty Arthritis, +++ Arthritis, Gouty, ---   Psoriasis, Arthritic, +++ Arthritis, Psoriatic, +++ Psoriatic Arthropathy, +++ Psoriasis Arthropathica, +++ Psoriatic ArthritisBriquet Syndrome, +++ Pain Disorder, +++ Somatoform Disorders, +++ Medically Unexplained Syndrome, +++ Medically Unexplained Syndromes, +++ Somatization Disorder, ---   Manic Disorder, +++ Manic State, +++ Manic-Depressive Psychosis, +++ Bipolar Disorder, +++ Psychoses, Manic-Depressive, +++ Mania, +++ Psychosis, Manic-Depressive, +++ Affective Psychosis, Bipolar, +++ Depression, Bipolar, ---   Panic Disorder, +++ Panic Attacks, ---   Childhood Tic Disorders, +++ Tic Disorder, Transient, +++ Transient Tic Disorder, +++ Motor Tic Disorders, +++ Tic Disorder, Chronic Motor or Vocal, +++ Tic Disorders, Vocal, +++ Tic Disorders, Motor, +++ Chronic Motor or Vocal Tic Disorder, +++ Tic Disorders, +++ Motor or Vocal Tic Disorder, Chronic, +++ Post-Traumatic Tic Disorder, +++ Tic Disorders, Childhood, +++ Tic Disorder, Post-Traumatic, +++ Vocal Tic Disorders, ---   Temporomandibular Disorders, +++ TMJ Diseases, +++ Temporomandibular Joint Disorders, +++ TMJ Disorders, +++ Temporomandibular Joint Diseases, ---   Cerebroatrophic Hyperammonemia, +++ Rett's Syndrome, +++ Rett Syndrome, +++ Rett's Disorder, +++ Autism-Dementia-Ataxia-Loss of Purposeful Hand Use Syndrome, +++ Rett Disorder, +++ Autism, Dementia, Ataxia, and Loss of Purposeful Hand Use, ---   Reading Disorder, Developmental, +++ Alexia, +++ Developmental Reading Disorder, +++ Reading Disability, Developmental, +++ Word Blindness, +++ Dyslexia, +++ Dyslexia, Developmental, +++ Reading Disorder, ---   Diagnosis, Psychiatric, +++ Mental Disorders, +++ Behavior Disorders, +++ Psychiatric Diseases, +++ Psychiatric Illness, +++ Psychiatric Disorders, +++ Mental Disorders, Severe, +++ Psychiatric Diagnosis, ---   Sex Disorders, +++ Sexual Dysfunction, Physiological, +++ Sexual Dysfunctions, Physiological, +++ Sexual Disorders, PhysiologicalMedically Unexplained Symptoms, +++ Somatic Symptoms, ---   Prodromal Symptoms, +++ Prodromal Characteristics, +++ Prodromal Syndromes, +++ Prodromal Signs, +++ Prodromal States, +++ Prodromal Period, +++ Prodromal Stage, ---   Neurologic Symptoms, +++ Neurologic Signs, +++ Neurologic Manifestation, +++ Neurologic Dysfunction, +++ Focal Neurologic Deficits, +++ Neurologic Findings, +++ Neurologic Deficits, +++ Neurologic Signs and Symptoms, +++ Manifestations, Neurologic, +++ Neurologic Manifestations, +++ Neurological Manifestations, +++ Manifestations, Neurological, ---   Signs and Symptoms, ---   Emotional Depression, +++ Depression, +++ Depressive Symptoms, ---   Cognitive Manifestations, +++ Neurobehavioral Manifestations, +++ Neurobehavioral Signs and Symptoms, +++ Signs and Symptoms, Neurobehavioral, +++ Cognitive Symptoms, ---   Affective Symptoms, +++ Alexithymia, +++ Emotional DisturbancesJoint Pain, +++ Polyarthralgia, +++ ArthralgiaAortic Stiffness, +++ Vascular Stiffness, +++ Arterial Stiffness\n"
     ]
    }
   ],
   "source": [
    "print(mesh_creator(test_query, delimiter))"
   ]
  },
  {
   "cell_type": "code",
   "execution_count": null,
   "metadata": {},
   "outputs": [],
   "source": []
  }
 ],
 "metadata": {
  "kernelspec": {
   "display_name": "Python 3",
   "language": "python",
   "name": "python3"
  },
  "language_info": {
   "codemirror_mode": {
    "name": "ipython",
    "version": 3
   },
   "file_extension": ".py",
   "mimetype": "text/x-python",
   "name": "python",
   "nbconvert_exporter": "python",
   "pygments_lexer": "ipython3",
   "version": "3.8.5"
  }
 },
 "nbformat": 4,
 "nbformat_minor": 4
}
