{
 "cells": [
  {
   "cell_type": "markdown",
   "metadata": {},
   "source": [
    "# MESH"
   ]
  },
  {
   "cell_type": "code",
   "execution_count": 21,
   "metadata": {},
   "outputs": [],
   "source": [
    "import spacy\n",
    "import scispacy\n",
    "from scispacy.linking import EntityLinker\n",
    "from scispacy.abbreviation import AbbreviationDetector"
   ]
  },
  {
   "cell_type": "code",
   "execution_count": 22,
   "metadata": {},
   "outputs": [
    {
     "data": {
      "text/plain": [
       "<scispacy.linking.EntityLinker at 0x18b05345130>"
      ]
     },
     "execution_count": 22,
     "metadata": {},
     "output_type": "execute_result"
    }
   ],
   "source": [
    "nlp = spacy.load(\"en_core_sci_md\")\n",
    "nlp.add_pipe(\"abbreviation_detector\")\n",
    "nlp.add_pipe(\"scispacy_linker\", config={\"resolve_abbreviations\": True, \"linker_name\": \"mesh\"})"
   ]
  },
  {
   "cell_type": "code",
   "execution_count": 41,
   "metadata": {},
   "outputs": [],
   "source": [
    "def mesh_creator(query_string, delimiter):\n",
    "    \"\"\"\n",
    "        Finds and creates MeSh-Terms for query_string using scispacy EntityLinker\n",
    "        \n",
    "        Input:\n",
    "        query_string : str\n",
    "        delimiter : str\n",
    "        \n",
    "        Output:\n",
    "        mesh_string : str\n",
    "    \"\"\"\n",
    "#     only if nlp isn't preloaded:\n",
    "\n",
    "#     nlp = spacy.load(\"en_core_sci_md\")\n",
    "#     nlp.add_pipe(\"abbreviation_detector\")\n",
    "#     nlp.add_pipe(\"scispacy_linker\", config={\"resolve_abbreviations\": True, \"linker_name\": \"mesh\"})\n",
    "    \n",
    "    \n",
    "    \n",
    "    doc = nlp(query_string)\n",
    "    entity = doc.ents[1]\n",
    "    \n",
    "    linker = nlp.get_pipe(\"scispacy_linker\")\n",
    "    mesh_string = \"\"\n",
    "    for x in range(0, len(entity._.kb_ents)):\n",
    "        mesh_ent = entity._.kb_ents[x]\n",
    "        linker_str = \"\"\n",
    "        for i in range(0, len(linker.kb.cui_to_entity[mesh_ent[0]].aliases)):\n",
    "            meshed = linker.kb.cui_to_entity[mesh_ent[0]].aliases[i]\n",
    "            if i < len(linker.kb.cui_to_entity[mesh_ent[0]].aliases) -1:\n",
    "                linker_str = linker_str + meshed + \", \"\n",
    "            else:\n",
    "                linker_str += meshed\n",
    "        if x < len(entity._.kb_ents) -1:\n",
    "            mesh_string = mesh_string + linker_str + delimiter + \" \"\n",
    "        else:\n",
    "            mesh_string += linker_str\n",
    "    return mesh_string\n",
    "        \n",
    "    \n",
    "    "
   ]
  },
  {
   "cell_type": "code",
   "execution_count": 42,
   "metadata": {},
   "outputs": [
    {
     "name": "stdout",
     "output_type": "stream",
     "text": [
      "Briquet Syndrome, Pain Disorder, Somatoform Disorders, Medically Unexplained Syndrome, Medically Unexplained Syndromes, Somatization Disorder, Manic Disorder, Manic State, Manic-Depressive Psychosis, Bipolar Disorder, Psychoses, Manic-Depressive, Mania, Psychosis, Manic-Depressive, Affective Psychosis, Bipolar, Depression, Bipolar, Panic Disorder, Panic Attacks, Childhood Tic Disorders, Tic Disorder, Transient, Transient Tic Disorder, Motor Tic Disorders, Tic Disorder, Chronic Motor or Vocal, Tic Disorders, Vocal, Tic Disorders, Motor, Chronic Motor or Vocal Tic Disorder, Tic Disorders, Motor or Vocal Tic Disorder, Chronic, Post-Traumatic Tic Disorder, Tic Disorders, Childhood, Tic Disorder, Post-Traumatic, Vocal Tic Disorders, Temporomandibular Disorders, TMJ Diseases, Temporomandibular Joint Disorders, TMJ Disorders, Temporomandibular Joint Diseases\n"
     ]
    }
   ],
   "source": [
    "test_query = \"Arthritis is a term often used to mean any disorder that affects joints.[2] Symptoms generally include joint pain and stiffness\"\n",
    "delimiter = \",\"\n",
    "\n",
    "print(mesh_creator(test_query, delimiter))"
   ]
  }
 ],
 "metadata": {
  "kernelspec": {
   "display_name": "Python 3",
   "language": "python",
   "name": "python3"
  },
  "language_info": {
   "codemirror_mode": {
    "name": "ipython",
    "version": 3
   },
   "file_extension": ".py",
   "mimetype": "text/x-python",
   "name": "python",
   "nbconvert_exporter": "python",
   "pygments_lexer": "ipython3",
   "version": "3.8.5"
  }
 },
 "nbformat": 4,
 "nbformat_minor": 4
}